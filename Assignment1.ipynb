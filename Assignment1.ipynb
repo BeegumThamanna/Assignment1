{
  "nbformat": 4,
  "nbformat_minor": 0,
  "metadata": {
    "colab": {
      "name": "Assignment1.ipynb",
      "provenance": [],
      "collapsed_sections": [],
      "include_colab_link": true
    },
    "kernelspec": {
      "name": "python3",
      "display_name": "Python 3"
    }
  },
  "cells": [
    {
      "cell_type": "markdown",
      "metadata": {
        "id": "view-in-github",
        "colab_type": "text"
      },
      "source": [
        "<a href=\"https://colab.research.google.com/github/BeegumThamanna/Assignment1/blob/main/Assignment1.ipynb\" target=\"_parent\"><img src=\"https://colab.research.google.com/assets/colab-badge.svg\" alt=\"Open In Colab\"/></a>"
      ]
    },
    {
      "cell_type": "markdown",
      "metadata": {
        "id": "TARCY0PfzZVm"
      },
      "source": [
        " **Experiment with 5 List's In-built functions**\r\n",
        "\r\n"
      ]
    },
    {
      "cell_type": "markdown",
      "metadata": {
        "id": "7VMR9vH_wmao"
      },
      "source": [
        "1. append"
      ]
    },
    {
      "cell_type": "code",
      "metadata": {
        "colab": {
          "base_uri": "https://localhost:8080/"
        },
        "id": "f3gBjuGlwWpt",
        "outputId": "8f396e3d-7fc6-4645-dd00-b062e17dd198"
      },
      "source": [
        "List = ['python', 'c++', 'c'] \r\n",
        "List.append('java') \r\n",
        "print(List) "
      ],
      "execution_count": null,
      "outputs": [
        {
          "output_type": "stream",
          "text": [
            "['python', 'c++', 'c', 'java']\n"
          ],
          "name": "stdout"
        }
      ]
    },
    {
      "cell_type": "markdown",
      "metadata": {
        "id": "JODlJ3t2xQWr"
      },
      "source": [
        "2. del"
      ]
    },
    {
      "cell_type": "code",
      "metadata": {
        "colab": {
          "base_uri": "https://localhost:8080/"
        },
        "id": "SITQcs-LxPjk",
        "outputId": "70df84d9-6941-437e-f228-9f29779aef27"
      },
      "source": [
        "List = ['iron','silver','ore',] \r\n",
        "del List[2] \r\n",
        "print(List) "
      ],
      "execution_count": null,
      "outputs": [
        {
          "output_type": "stream",
          "text": [
            "['iron', 'silver']\n"
          ],
          "name": "stdout"
        }
      ]
    },
    {
      "cell_type": "markdown",
      "metadata": {
        "id": "AziJj2uVyIds"
      },
      "source": [
        "3. max"
      ]
    },
    {
      "cell_type": "code",
      "metadata": {
        "colab": {
          "base_uri": "https://localhost:8080/"
        },
        "id": "mtH5m78RyiG9",
        "outputId": "bc2e2d10-5004-46e4-e62b-b2f41427e2f0"
      },
      "source": [
        "c"
      ],
      "execution_count": null,
      "outputs": [
        {
          "output_type": "stream",
          "text": [
            "1000\n"
          ],
          "name": "stdout"
        }
      ]
    },
    {
      "cell_type": "markdown",
      "metadata": {
        "id": "U9OT97BZy7Gx"
      },
      "source": [
        "4. pop"
      ]
    },
    {
      "cell_type": "code",
      "metadata": {
        "colab": {
          "base_uri": "https://localhost:8080/"
        },
        "id": "t1oRtmH0y-XD",
        "outputId": "81a71221-b38e-4d78-9635-d5cfcee6e0c2"
      },
      "source": [
        "List= [60,70,80,90]\r\n",
        "print(List.pop(2)) \r\n"
      ],
      "execution_count": null,
      "outputs": [
        {
          "output_type": "stream",
          "text": [
            "80\n"
          ],
          "name": "stdout"
        }
      ]
    },
    {
      "cell_type": "markdown",
      "metadata": {
        "id": "zi6wCe3fzdqc"
      },
      "source": [
        "5. min"
      ]
    },
    {
      "cell_type": "code",
      "metadata": {
        "colab": {
          "base_uri": "https://localhost:8080/"
        },
        "id": "wzKibQO9zwF6",
        "outputId": "560cd50d-51b1-4af8-a515-dd5eec308975"
      },
      "source": [
        "List = [40, 47, 3, 149, 500,1000] \r\n",
        "print(min(List)) "
      ],
      "execution_count": null,
      "outputs": [
        {
          "output_type": "stream",
          "text": [
            "3\n"
          ],
          "name": "stdout"
        }
      ]
    },
    {
      "cell_type": "markdown",
      "metadata": {
        "id": "zn97cjBkq79D"
      },
      "source": [
        "**Experiment with 5 Dictionary's In-built functions**"
      ]
    },
    {
      "cell_type": "markdown",
      "metadata": {
        "id": "zEVb2MdXq_Jo"
      },
      "source": [
        "1. get"
      ]
    },
    {
      "cell_type": "code",
      "metadata": {
        "id": "IJC_oMgXq_bO",
        "colab": {
          "base_uri": "https://localhost:8080/"
        },
        "outputId": "ef36403d-a97a-477e-9c0b-fc40116f9277"
      },
      "source": [
        "student = { 'name' : 'Thamanna', 'adm.no':15015,'department':'cse' }\r\n",
        "print(student.get('name'))"
      ],
      "execution_count": null,
      "outputs": [
        {
          "output_type": "stream",
          "text": [
            "Thamanna\n"
          ],
          "name": "stdout"
        }
      ]
    },
    {
      "cell_type": "markdown",
      "metadata": {
        "id": "Zbp5cFDAq_yA"
      },
      "source": [
        "2. items"
      ]
    },
    {
      "cell_type": "code",
      "metadata": {
        "id": "YdUJIaJHrrgY",
        "colab": {
          "base_uri": "https://localhost:8080/"
        },
        "outputId": "21786a0c-4e7b-4d03-ce9c-bbcf0e0cea53"
      },
      "source": [
        "student = { 'name' : 'Thamanna', 'adm.no':15015,'department':'cse' }\r\n",
        "print(student.items())"
      ],
      "execution_count": null,
      "outputs": [
        {
          "output_type": "stream",
          "text": [
            "dict_items([('name', 'Thamanna'), ('adm.no', 15015), ('department', 'cse')])\n"
          ],
          "name": "stdout"
        }
      ]
    },
    {
      "cell_type": "markdown",
      "metadata": {
        "id": "RI2UXgCIrrxP"
      },
      "source": [
        "3. clear"
      ]
    },
    {
      "cell_type": "code",
      "metadata": {
        "id": "JvPO-BEtrsCv",
        "colab": {
          "base_uri": "https://localhost:8080/"
        },
        "outputId": "cf76919b-299e-4241-cb7d-32512e6b9132"
      },
      "source": [
        "student = { 'name' : 'Thamanna', 'adm.no':15015,'department':'cse' }\r\n",
        "print(student.clear())"
      ],
      "execution_count": null,
      "outputs": [
        {
          "output_type": "stream",
          "text": [
            "None\n"
          ],
          "name": "stdout"
        }
      ]
    },
    {
      "cell_type": "markdown",
      "metadata": {
        "id": "GB1vTANursSD"
      },
      "source": [
        "  4.value"
      ]
    },
    {
      "cell_type": "code",
      "metadata": {
        "id": "5F_NuPUsrsgt",
        "colab": {
          "base_uri": "https://localhost:8080/"
        },
        "outputId": "eb987961-127e-4d9c-eb5e-bcc1b2c0e9cb"
      },
      "source": [
        "student = { 'name' : 'Thamanna', 'adm.no':15015,'department':'cse' }\r\n",
        "print(student.values())"
      ],
      "execution_count": null,
      "outputs": [
        {
          "output_type": "stream",
          "text": [
            "dict_values(['Thamanna', 15015, 'cse'])\n"
          ],
          "name": "stdout"
        }
      ]
    },
    {
      "cell_type": "markdown",
      "metadata": {
        "id": "p0E9XPeTrsvk"
      },
      "source": [
        " 5.copy"
      ]
    },
    {
      "cell_type": "code",
      "metadata": {
        "id": "IXHVfkmkr0e4",
        "colab": {
          "base_uri": "https://localhost:8080/"
        },
        "outputId": "86a3e9c7-3ded-475d-b529-b09b39392656"
      },
      "source": [
        "student = { 'name' : 'Thamanna', 'adm.no':15015,'department':'cse' }\r\n",
        "print(student.copy())"
      ],
      "execution_count": null,
      "outputs": [
        {
          "output_type": "stream",
          "text": [
            "{'name': 'Thamanna', 'adm.no': 15015, 'department': 'cse'}\n"
          ],
          "name": "stdout"
        }
      ]
    }
  ]
}